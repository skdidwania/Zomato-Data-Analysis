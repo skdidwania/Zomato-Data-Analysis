{
 "cells": [
  {
   "cell_type": "markdown",
   "metadata": {},
   "source": [
    "# Data Science In Python- Assignment 1\n",
    "\n",
    "  ##  Name- Shri Krishna Didwania\n",
    "  \n",
    "  ## Student Number -  18203023\n",
    "  \n",
    "  "
   ]
  },
  {
   "cell_type": "markdown",
   "metadata": {},
   "source": [
    "Below are all the import statements required for fetching all the necessary libraries to run the notebook"
   ]
  },
  {
   "cell_type": "code",
   "execution_count": null,
   "metadata": {},
   "outputs": [],
   "source": [
    "import seaborn as sns\n",
    "import pandas as pd\n",
    "from pandas import DataFrame\n",
    "import requests\n",
    "import os\n",
    "import json\n",
    "import matplotlib\n",
    "import matplotlib.pyplot as plt\n",
    "from matplotlib import style\n",
    "%matplotlib inline\n"
   ]
  },
  {
   "cell_type": "markdown",
   "metadata": {},
   "source": [
    "# Task1\n",
    "1. Data Identification and Collection:\n",
    "\n",
    "<ul>\n",
    "     <li>I have chosen the <b> Zomato api</b> for fetching data</li>\n",
    "     <li>It is limited to <b>1000 calls</b> per day</li>\n",
    "     <li>I have collected of over 200 restaurants in Belfast using the api</li>\n",
    "     <li> City id for belfast is 320 which is used when I fetch the data for the restaurants </li>\n",
    "     <li> The api key is <b> 5b459dc1de0da96b10c186fb9c2b2b8a </b></li>\n",
    "    </ul>\n"
   ]
  },
  {
   "cell_type": "code",
   "execution_count": 2,
   "metadata": {},
   "outputs": [],
   "source": [
    "api_key = \"5b459dc1de0da96b10c186fb9c2b2b8a\"\n",
    "count_api = 0"
   ]
  },
  {
   "cell_type": "markdown",
   "metadata": {},
   "source": [
    "# Data Collection\n",
    "<li> Cuisine data (cuisine id and cuisine name) is fetched into a json file named <b>cuisines_information.json </b></li>"
   ]
  },
  {
   "cell_type": "code",
   "execution_count": 5,
   "metadata": {},
   "outputs": [],
   "source": [
    "if count_api < 1001:\n",
    "    cuisines = requests.get('https://developers.zomato.com/api/v2.1/cuisines?city_id=320',\n",
    "                                headers={'Accept':'application/json','user-key':'5b459dc1de0da96b10c186fb9c2b2b8a'})\n",
    "    count_api=count_api+1\n",
    "else:\n",
    "    print(\"Number of Api requests exceeded\")    #api limit exceeded\n",
    "\n",
    "try:\n",
    "    file_name='cuisines_information.json'#the file where the data is stored\n",
    "    file = open(file_name, \"w\")\n",
    "    file.write(cuisines.text)\n",
    "    file.close()\n",
    "except Exception as t:\n",
    "    print(\"Can't write to the  file \\n :\"+ str(t))\n",
    "#some references taken from https://www.youtube.com/watch?v=ChwSD5e0Qs0"
   ]
  },
  {
   "cell_type": "markdown",
   "metadata": {},
   "source": [
    "\n",
    "Converting the json data into a dataframe set named <b>\"cuisines_dataset\"</b>"
   ]
  },
  {
   "cell_type": "code",
   "execution_count": 247,
   "metadata": {},
   "outputs": [],
   "source": [
    "with open('cuisines_information.json') as cuisines_json:\n",
    "    cuisines = json.load(cuisines_json)\n",
    "    cuisines = cuisines['cuisines']\n",
    "    cuisines_list = []\n",
    "    for cuisine in cuisines:\n",
    "        cuisines_list.append([cuisine['cuisine']['cuisine_id'],cuisine['cuisine']['cuisine_name']])\n",
    "        \n",
    "cuisines_dataset = pd.DataFrame(cuisines_list)\n",
    "cuisines_dataset.columns = ['cuisine_id','cuisine_name']"
   ]
  },
  {
   "cell_type": "markdown",
   "metadata": {},
   "source": [
    "Converted the dataframe to a csv file <b> cuisines_dataset.csv</b>"
   ]
  },
  {
   "cell_type": "code",
   "execution_count": 250,
   "metadata": {},
   "outputs": [],
   "source": [
    "cuisines_dataset.to_csv('cuisines_dataset.csv', header=True, index=None) #exporting to csv"
   ]
  },
  {
   "cell_type": "markdown",
   "metadata": {},
   "source": [
    "Reading all the json files with the restaurants information from the api\n",
    "<br>\n",
    "Refereed the code on github mentioned in the end"
   ]
  },
  {
   "cell_type": "code",
   "execution_count": 39,
   "metadata": {},
   "outputs": [
    {
     "ename": "SyntaxError",
     "evalue": "invalid syntax (<ipython-input-39-a53e2a4d4550>, line 10)",
     "output_type": "error",
     "traceback": [
      "\u001b[1;36m  File \u001b[1;32m\"<ipython-input-39-a53e2a4d4550>\"\u001b[1;36m, line \u001b[1;32m10\u001b[0m\n\u001b[1;33m    results = restro_json['results_shown']== null? 0:restro_json['results_shown']\u001b[0m\n\u001b[1;37m                                                 ^\u001b[0m\n\u001b[1;31mSyntaxError\u001b[0m\u001b[1;31m:\u001b[0m invalid syntax\n"
     ]
    }
   ],
   "source": [
    "for cuisine_id in cuisines_dataset['cuisine_id']:\n",
    "    count =0\n",
    "    start=0\n",
    "    while count < 3:\n",
    "        if count_api > 1000:\n",
    "            link='https://developers.zomato.com/api/v2.1/search?start=%d&count=20&lat=54.607868&lon=-5.926437&cuisines=%d' % (start,cuisine_id)\n",
    "            restro_results=requests.get(link,headers={'Accept':'application/json','user-key':'5b459dc1de0da96b10c186fb9c2b2b8a'})\n",
    "            count_api = count_api + 1 \n",
    "            restro_json=restro_results.json()\n",
    "            results = restro_json['results_shown']            \n",
    "            if(results == 0):\n",
    "                break;\n",
    "            else:\n",
    "                #file collection (json files) from the server\n",
    "                try:\n",
    "                    file_name='%d_%d.json'% (cuisine_id,count)\n",
    "                    file_name=os.path.join(os.getcwd(),'restaurants',file_name)\n",
    "                    file = open(file_name, \"w\")\n",
    "                    file.write(restro_results.text)\n",
    "                    file.close()\n",
    "                    start = start+20\n",
    "                    count += 1\n",
    "                except Exception as m:\n",
    "                    print(\"Cannot write to file\"+str(m))      \n",
    "        else:\n",
    "            print(\"The number of api requests exceeded\")  \n",
    "            break; #resetting the api count\n",
    "           \n",
    "    if(count_api < 1000):\n",
    "        print(\"The number of api requests exceeded\")  \n",
    "        break \n"
   ]
  },
  {
   "cell_type": "markdown",
   "metadata": {},
   "source": [
    "Reading all the json files collected above in the restaurants folder and writing it in a dataset to work upon\n",
    "Referred the code on github mentioned in the end and geeksforgeeks"
   ]
  },
  {
   "cell_type": "code",
   "execution_count": 41,
   "metadata": {},
   "outputs": [],
   "source": [
    "path_to_json = './restaurants/'\n",
    "json_files = [pos_json for pos_json in os.listdir(path_to_json) if pos_json.endswith('.json')]\n",
    "restaurants_list =[]\n",
    "\n",
    "for index, js in enumerate(json_files):\n",
    "    with open(os.path.join(path_to_json, js)) as json_file:\n",
    "        restro = json.load(json_file)\n",
    "        restaurants = restro['restaurants']\n",
    "    \n",
    "        for restaurant in restaurants:\n",
    "            restaurants_list.append([restaurant['restaurant']['id'],restaurant['restaurant']['name'],restaurant['restaurant']['url'],\n",
    "                                restaurant['restaurant']['location']['address'],restaurant['restaurant']['location']['locality'],\n",
    "                                restaurant['restaurant']['location']['city'],restaurant['restaurant']['location']['city_id'],\n",
    "                                restaurant['restaurant']['location']['latitude'],restaurant['restaurant']['location']['longitude'],     \n",
    "                                restaurant['restaurant']['location']['zipcode'],restaurant['restaurant']['location']['country_id'],\n",
    "                                restaurant['restaurant']['location']['locality_verbose'],restaurant['restaurant']['cuisines'],\n",
    "                                restaurant['restaurant']['average_cost_for_two'],restaurant['restaurant']['user_rating']['aggregate_rating'],\n",
    "                                restaurant['restaurant']['user_rating']['rating_text'],restaurant['restaurant']['user_rating']['votes'],\n",
    "                                restaurant['restaurant']['has_online_delivery'],restaurant['restaurant']['is_table_reservation_supported'],\n",
    "                                restaurant['restaurant']['establishment_types']])\n",
    "\n",
    "\n",
    "restaurants_dataset = pd.DataFrame(restaurants_list)\n",
    "restaurants_dataset.columns = ['restaurant_id','restaurant_name','url','address','locality','city','city_id','latitude','longitude','zipcode',\n",
    "                               'country_id','locality_verbose','cuisines','average_cost_for_two','aggregate_rating','rating_text',\n",
    "                               'votes','has_online_delivery','is_table_reservation_supported','establishment_types']"
   ]
  },
  {
   "cell_type": "code",
   "execution_count": 298,
   "metadata": {},
   "outputs": [
    {
     "data": {
      "text/html": [
       "<div>\n",
       "<style scoped>\n",
       "    .dataframe tbody tr th:only-of-type {\n",
       "        vertical-align: middle;\n",
       "    }\n",
       "\n",
       "    .dataframe tbody tr th {\n",
       "        vertical-align: top;\n",
       "    }\n",
       "\n",
       "    .dataframe thead th {\n",
       "        text-align: right;\n",
       "    }\n",
       "</style>\n",
       "<table border=\"1\" class=\"dataframe\">\n",
       "  <thead>\n",
       "    <tr style=\"text-align: right;\">\n",
       "      <th></th>\n",
       "      <th>restaurant_id</th>\n",
       "      <th>restaurant_name</th>\n",
       "      <th>url</th>\n",
       "      <th>address</th>\n",
       "      <th>locality</th>\n",
       "      <th>city</th>\n",
       "      <th>city_id</th>\n",
       "      <th>latitude</th>\n",
       "      <th>longitude</th>\n",
       "      <th>zipcode</th>\n",
       "      <th>country_id</th>\n",
       "      <th>locality_verbose</th>\n",
       "      <th>cuisines</th>\n",
       "      <th>average_cost_for_two</th>\n",
       "      <th>aggregate_rating</th>\n",
       "      <th>rating_text</th>\n",
       "      <th>votes</th>\n",
       "      <th>has_online_delivery</th>\n",
       "      <th>is_table_reservation_supported</th>\n",
       "      <th>establishment_types</th>\n",
       "    </tr>\n",
       "  </thead>\n",
       "  <tbody>\n",
       "    <tr>\n",
       "      <th>0</th>\n",
       "      <td>16675405</td>\n",
       "      <td>Uluru Bar &amp; Grill</td>\n",
       "      <td>https://www.zomato.com/belfast-northern-irelan...</td>\n",
       "      <td>3-5 Market Street, Armagh, Belfast BT61 7BW</td>\n",
       "      <td>Armagh</td>\n",
       "      <td>Belfast</td>\n",
       "      <td>320</td>\n",
       "      <td>54.2485423000</td>\n",
       "      <td>-6.7052175000</td>\n",
       "      <td>BelfastBT61 7BW</td>\n",
       "      <td>215</td>\n",
       "      <td>Armagh, Belfast</td>\n",
       "      <td>Steak, Australian, Grill</td>\n",
       "      <td>50</td>\n",
       "      <td>0</td>\n",
       "      <td>Not rated</td>\n",
       "      <td>1</td>\n",
       "      <td>0</td>\n",
       "      <td>0</td>\n",
       "      <td>[]</td>\n",
       "    </tr>\n",
       "    <tr>\n",
       "      <th>1</th>\n",
       "      <td>16674551</td>\n",
       "      <td>Barking Dog</td>\n",
       "      <td>https://www.zomato.com/belfast-northern-irelan...</td>\n",
       "      <td>33-35 Malone Rd, Belfast BT9 6RU</td>\n",
       "      <td>Belfast</td>\n",
       "      <td>Belfast</td>\n",
       "      <td>320</td>\n",
       "      <td>54.5808528000</td>\n",
       "      <td>-5.9385134000</td>\n",
       "      <td>BelfastBT9 6RU</td>\n",
       "      <td>215</td>\n",
       "      <td>Belfast, Belfast</td>\n",
       "      <td>British</td>\n",
       "      <td>12</td>\n",
       "      <td>3.4</td>\n",
       "      <td>Average</td>\n",
       "      <td>9</td>\n",
       "      <td>0</td>\n",
       "      <td>0</td>\n",
       "      <td>[]</td>\n",
       "    </tr>\n",
       "    <tr>\n",
       "      <th>2</th>\n",
       "      <td>16674933</td>\n",
       "      <td>James Street South</td>\n",
       "      <td>https://www.zomato.com/belfast-northern-irelan...</td>\n",
       "      <td>21 James St South, Belfast BT2 7GA</td>\n",
       "      <td>Belfast</td>\n",
       "      <td>Belfast</td>\n",
       "      <td>320</td>\n",
       "      <td>54.5954480000</td>\n",
       "      <td>-5.9328050000</td>\n",
       "      <td>BelfastBT2 7GA</td>\n",
       "      <td>215</td>\n",
       "      <td>Belfast, Belfast</td>\n",
       "      <td>Bar Food, Scottish, British</td>\n",
       "      <td>12</td>\n",
       "      <td>3.9</td>\n",
       "      <td>Good</td>\n",
       "      <td>12</td>\n",
       "      <td>0</td>\n",
       "      <td>0</td>\n",
       "      <td>[]</td>\n",
       "    </tr>\n",
       "    <tr>\n",
       "      <th>3</th>\n",
       "      <td>16675079</td>\n",
       "      <td>Mollys Yard</td>\n",
       "      <td>https://www.zomato.com/belfast-northern-irelan...</td>\n",
       "      <td>Botanic Ave, Belfast BT7 1JR</td>\n",
       "      <td>Belfast</td>\n",
       "      <td>Belfast</td>\n",
       "      <td>320</td>\n",
       "      <td>54.5861817000</td>\n",
       "      <td>-5.9322265000</td>\n",
       "      <td>BelfastBT7 1JR</td>\n",
       "      <td>215</td>\n",
       "      <td>Belfast, Belfast</td>\n",
       "      <td>British</td>\n",
       "      <td>0</td>\n",
       "      <td>3.7</td>\n",
       "      <td>Good</td>\n",
       "      <td>4</td>\n",
       "      <td>0</td>\n",
       "      <td>0</td>\n",
       "      <td>[]</td>\n",
       "    </tr>\n",
       "    <tr>\n",
       "      <th>4</th>\n",
       "      <td>16675293</td>\n",
       "      <td>Shu</td>\n",
       "      <td>https://www.zomato.com/belfast-northern-irelan...</td>\n",
       "      <td>253 Lisburn Rd, Belfast BT9 7EN</td>\n",
       "      <td>Belfast</td>\n",
       "      <td>Belfast</td>\n",
       "      <td>320</td>\n",
       "      <td>54.5813100000</td>\n",
       "      <td>-5.9482210000</td>\n",
       "      <td>BelfastBT9 7EN</td>\n",
       "      <td>215</td>\n",
       "      <td>Belfast, Belfast</td>\n",
       "      <td>French, British</td>\n",
       "      <td>0</td>\n",
       "      <td>3.4</td>\n",
       "      <td>Average</td>\n",
       "      <td>4</td>\n",
       "      <td>0</td>\n",
       "      <td>0</td>\n",
       "      <td>[]</td>\n",
       "    </tr>\n",
       "  </tbody>\n",
       "</table>\n",
       "</div>"
      ],
      "text/plain": [
       "  restaurant_id     restaurant_name  \\\n",
       "0      16675405   Uluru Bar & Grill   \n",
       "1      16674551         Barking Dog   \n",
       "2      16674933  James Street South   \n",
       "3      16675079         Mollys Yard   \n",
       "4      16675293                 Shu   \n",
       "\n",
       "                                                 url  \\\n",
       "0  https://www.zomato.com/belfast-northern-irelan...   \n",
       "1  https://www.zomato.com/belfast-northern-irelan...   \n",
       "2  https://www.zomato.com/belfast-northern-irelan...   \n",
       "3  https://www.zomato.com/belfast-northern-irelan...   \n",
       "4  https://www.zomato.com/belfast-northern-irelan...   \n",
       "\n",
       "                                       address locality     city  city_id  \\\n",
       "0  3-5 Market Street, Armagh, Belfast BT61 7BW   Armagh  Belfast      320   \n",
       "1             33-35 Malone Rd, Belfast BT9 6RU  Belfast  Belfast      320   \n",
       "2           21 James St South, Belfast BT2 7GA  Belfast  Belfast      320   \n",
       "3                 Botanic Ave, Belfast BT7 1JR  Belfast  Belfast      320   \n",
       "4              253 Lisburn Rd, Belfast BT9 7EN  Belfast  Belfast      320   \n",
       "\n",
       "        latitude      longitude          zipcode  country_id  \\\n",
       "0  54.2485423000  -6.7052175000  BelfastBT61 7BW         215   \n",
       "1  54.5808528000  -5.9385134000   BelfastBT9 6RU         215   \n",
       "2  54.5954480000  -5.9328050000   BelfastBT2 7GA         215   \n",
       "3  54.5861817000  -5.9322265000   BelfastBT7 1JR         215   \n",
       "4  54.5813100000  -5.9482210000   BelfastBT9 7EN         215   \n",
       "\n",
       "   locality_verbose                     cuisines  average_cost_for_two  \\\n",
       "0   Armagh, Belfast     Steak, Australian, Grill                    50   \n",
       "1  Belfast, Belfast                      British                    12   \n",
       "2  Belfast, Belfast  Bar Food, Scottish, British                    12   \n",
       "3  Belfast, Belfast                      British                     0   \n",
       "4  Belfast, Belfast              French, British                     0   \n",
       "\n",
       "  aggregate_rating rating_text  votes  has_online_delivery  \\\n",
       "0                0   Not rated      1                    0   \n",
       "1              3.4     Average      9                    0   \n",
       "2              3.9        Good     12                    0   \n",
       "3              3.7        Good      4                    0   \n",
       "4              3.4     Average      4                    0   \n",
       "\n",
       "   is_table_reservation_supported establishment_types  \n",
       "0                               0                  []  \n",
       "1                               0                  []  \n",
       "2                               0                  []  \n",
       "3                               0                  []  \n",
       "4                               0                  []  "
      ]
     },
     "execution_count": 298,
     "metadata": {},
     "output_type": "execute_result"
    }
   ],
   "source": [
    "restaurants_dataset.head()"
   ]
  },
  {
   "cell_type": "markdown",
   "metadata": {},
   "source": [
    "# Data Preprocessing"
   ]
  },
  {
   "cell_type": "code",
   "execution_count": 299,
   "metadata": {},
   "outputs": [
    {
     "data": {
      "text/plain": [
       "230"
      ]
     },
     "execution_count": 299,
     "metadata": {},
     "output_type": "execute_result"
    }
   ],
   "source": [
    "len(restaurants_dataset)"
   ]
  },
  {
   "cell_type": "markdown",
   "metadata": {},
   "source": [
    "Exporting the dataset to a csv file"
   ]
  },
  {
   "cell_type": "code",
   "execution_count": null,
   "metadata": {},
   "outputs": [],
   "source": [
    "export_csv = restaurants_dataset.to_csv (r'restaurants_dataset.csv', index = None, header=True)\n"
   ]
  },
  {
   "cell_type": "markdown",
   "metadata": {},
   "source": [
    "prints the length of cuisine dataset"
   ]
  },
  {
   "cell_type": "code",
   "execution_count": 303,
   "metadata": {},
   "outputs": [
    {
     "data": {
      "text/plain": [
       "59"
      ]
     },
     "execution_count": 303,
     "metadata": {},
     "output_type": "execute_result"
    }
   ],
   "source": [
    "cuisines_dataset.head()\n",
    "len(cuisines_dataset)#prints the length"
   ]
  },
  {
   "cell_type": "markdown",
   "metadata": {},
   "source": [
    "checks if the restaurant is unique"
   ]
  },
  {
   "cell_type": "code",
   "execution_count": 305,
   "metadata": {},
   "outputs": [
    {
     "data": {
      "text/plain": [
       "230"
      ]
     },
     "execution_count": 305,
     "metadata": {},
     "output_type": "execute_result"
    }
   ],
   "source": [
    "restaurants_dataset['restaurant_id'].nunique()\n"
   ]
  },
  {
   "cell_type": "markdown",
   "metadata": {},
   "source": [
    "drops the dupicate rows in the restaurant dataset and prints its length"
   ]
  },
  {
   "cell_type": "code",
   "execution_count": null,
   "metadata": {},
   "outputs": [],
   "source": [
    "restaurants_dataset.drop_duplicates(subset =\"restaurant_id\", keep = 'first', inplace = True)\n",
    "len(restaurants_dataset)"
   ]
  },
  {
   "cell_type": "markdown",
   "metadata": {},
   "source": [
    "checks if all the zipcodes are unique"
   ]
  },
  {
   "cell_type": "code",
   "execution_count": 57,
   "metadata": {},
   "outputs": [
    {
     "data": {
      "text/plain": [
       "array(['BT61 7BW', 'BT9 6RU', 'BT2 7GA', 'BT7 1JR', 'BT9 7EN', 'BT23 5NE',\n",
       "       'BT9 6BQ', 'BT36 5QE', 'BT53 6AL', 'BT9 6AH', 'BT1 6PF',\n",
       "       'BT54 6DP', 'BT1 3EA', 'BT41 4LL', 'BT1 2AA', 'BT2 7BA',\n",
       "       'BT23 4LH', 'BT40 3DX', 'BT7 2FZ', 'BT23', 'BT74', 'BT1 3JL', '',\n",
       "       'BT15 5GE', 'BT49 0LP', 'BT74 6AA', 'BT44', 'BT38 7FG', 'BT12 4GX',\n",
       "       'BT7 1RS', 'BT23 4AB', 'BT57 8QE', 'BT4 2AN', 'BT19 1JH',\n",
       "       'BT71 5AX', 'BT20 4AG', 'BT74 7EH', 'BT51', 'BT18', 'BT9 7GU',\n",
       "       'BT7 1RQ', 'BT4 3JF', 'BT6 8', 'BT70 1HN', 'BT1 1', 'BT9 6RT',\n",
       "       'BT12 6AH', 'BT62', 'BT1', 'BT2 7FF', 'BT1 4QN', 'BT52 1DE',\n",
       "       'BT71', 'BT48 6JZ', 'BT51 3NA', 'BT2 8HS', 'BT9 7GT', 'BT16 1XT',\n",
       "       'BT20 3BB', 'BT80', 'BT9 7GX', 'BT30', 'BT20 4JP', 'BT43', 'BT48',\n",
       "       'BT7 3GP', 'BT36 7QT', 'BT32 3DF', 'BT60', 'BT16', 'BT66',\n",
       "       'BT52 1TP', 'BT45', 'BT53 6QN', 'BT12', 'BT3 9DT', 'BT48 7PU',\n",
       "       'BT5 5DL', 'BT28 1LP', 'BT80 8QB', 'BT37 9UH', 'BT48 7BN',\n",
       "       'BT48 7BW', 'BT1 5BB', 'BT43 6EB', 'BT1 2LB', 'BT19 6TZ',\n",
       "       'BT32 3EA', 'BT25 2BJ', 'BT8 6RB', 'BT1 1FE', 'BT1 1HL', 'BT1 4DT',\n",
       "       'BT41 4BG', 'BT48 7AY', 'BT26 6AE', 'BT54', 'BT15 4HG', 'BT27',\n",
       "       'BT57 8SN', 'BT9 6AY', 'BT70 3ES', 'BT48 7AS', 'BT31 9HE',\n",
       "       'BT35 7AB', 'BT33', 'BT40 1HJ', 'BT82 8BW', 'BT1 4QG', 'BT42',\n",
       "       'BT55 7AD', 'BT7 1NJ', 'BT60 3RP', 'BT1 6NB', 'BT45 6AA',\n",
       "       'BT3 9JU', 'BT30 6AB', 'BT26 6AB', 'BT1 2JD', 'BT38', 'BT70',\n",
       "       'BT47 3GY', 'BT80 8EF', 'BT17', 'BT9 7GQ', 'BT71 6HJ', 'BT11 9AH',\n",
       "       'BT54 6BN', 'BT2 7GP', 'BT22 2HR', 'BT7 1NR', 'BT68 4TZ',\n",
       "       'BT1 2JF', 'BT75', 'BT21 0HE', 'BT30 7SA', 'BT81 7BT', 'BT2 7GS',\n",
       "       'BT2', 'BT12 5EE', 'BT11 9AN', 'BT4 3GE', 'BT4 2EX', 'BT41 4JG',\n",
       "       'BT9 6GH', 'BT28 3EZ', 'BT18 9AB', 'BT14 8AE', 'BT21 0AA',\n",
       "       'BT2 8FE', 'BT23 5EQ', 'BT2 7BG', 'BT42 3AL', 'BT36 6HP',\n",
       "       'BT15 3BU', 'BT9 6AG', 'BT4 3BE', 'BT8 7HN', 'BT30 6EH',\n",
       "       'BT63 5AA', 'BT11 8BA', 'BT2 7BB', 'BT10', 'BT32 3DD', 'BT1 1GJ',\n",
       "       'BT80 0JD', 'BT41 4BA', 'BT14 6QJ', 'BT45 6AB', 'BT28 1ET',\n",
       "       'BT2 7HB', 'BT22 1EB', 'BT24 7AA', 'BT41 3AF', 'BT1 6GE',\n",
       "       'BT7 1JQ', 'BT1 6JA', 'BT52 1EJ', 'BT2 7HN', 'BT9 5AA', 'BT20 5EE',\n",
       "       'BT2 7HF', 'BT4 3JH', 'BT36 5EB', 'BT79 7AQ', 'BT47 6AP',\n",
       "       'BT38 9QQ', 'BT41 4AE'], dtype=object)"
      ]
     },
     "execution_count": 57,
     "metadata": {},
     "output_type": "execute_result"
    }
   ],
   "source": [
    "restaurants_dataset['zipcode'].unique()\n"
   ]
  },
  {
   "cell_type": "markdown",
   "metadata": {},
   "source": [
    "Adds Belfast to the zipcodes for proper understanding and writes that in the file"
   ]
  },
  {
   "cell_type": "code",
   "execution_count": 306,
   "metadata": {},
   "outputs": [
    {
     "data": {
      "text/plain": [
       "array(['BelfastBT61 7BW', 'BelfastBT9 6RU', 'BelfastBT2 7GA',\n",
       "       'BelfastBT7 1JR', 'BelfastBT9 7EN', 'BelfastBT23 5NE',\n",
       "       'BelfastBT9 6BQ', 'BelfastBT36 5QE', 'BelfastBT53 6AL',\n",
       "       'BelfastBT9 6AH', 'BelfastBT1 6PF', 'BelfastBT54 6DP',\n",
       "       'BelfastBT1 3EA', 'BelfastBT41 4LL', 'BelfastBT1 2AA',\n",
       "       'BelfastBT2 7BA', 'BelfastBT23 4LH', 'BelfastBT40 3DX',\n",
       "       'BelfastBT7 2FZ', 'BelfastBT23', 'BelfastBT74', 'BelfastBT1 3JL',\n",
       "       'BelfastNot Available', 'BelfastBT15 5GE', 'BelfastBT49 0LP',\n",
       "       'BelfastBT74 6AA', 'BelfastBT44', 'BelfastBT38 7FG',\n",
       "       'BelfastBT12 4GX', 'BelfastBT7 1RS', 'BelfastBT23 4AB',\n",
       "       'BelfastBT57 8QE', 'BelfastBT4 2AN', 'BelfastBT19 1JH',\n",
       "       'BelfastBT71 5AX', 'BelfastBT20 4AG', 'BelfastBT74 7EH',\n",
       "       'BelfastBT51', 'BelfastBT18', 'BelfastBT9 7GU', 'BelfastBT7 1RQ',\n",
       "       'BelfastBT4 3JF', 'BelfastBT6 8', 'BelfastBT70 1HN',\n",
       "       'BelfastBT1 1', 'BelfastBT9 6RT', 'BelfastBT12 6AH', 'BelfastBT62',\n",
       "       'BelfastBT1', 'BelfastBT2 7FF', 'BelfastBT1 4QN',\n",
       "       'BelfastBT52 1DE', 'BelfastBT71', 'BelfastBT48 6JZ',\n",
       "       'BelfastBT51 3NA', 'BelfastBT2 8HS', 'BelfastBT9 7GT',\n",
       "       'BelfastBT16 1XT', 'BelfastBT20 3BB', 'BelfastBT80',\n",
       "       'BelfastBT9 7GX', 'BelfastBT30', 'BelfastBT20 4JP', 'BelfastBT43',\n",
       "       'BelfastBT48', 'BelfastBT7 3GP', 'BelfastBT36 7QT',\n",
       "       'BelfastBT32 3DF', 'BelfastBT60', 'BelfastBT16', 'BelfastBT66',\n",
       "       'BelfastBT52 1TP', 'BelfastBT45', 'BelfastBT53 6QN', 'BelfastBT12',\n",
       "       'BelfastBT3 9DT', 'BelfastBT48 7PU', 'BelfastBT5 5DL',\n",
       "       'BelfastBT28 1LP', 'BelfastBT80 8QB', 'BelfastBT37 9UH',\n",
       "       'BelfastBT48 7BN', 'BelfastBT48 7BW', 'BelfastBT1 5BB',\n",
       "       'BelfastBT43 6EB', 'BelfastBT1 2LB', 'BelfastBT19 6TZ',\n",
       "       'BelfastBT32 3EA', 'BelfastBT25 2BJ', 'BelfastBT8 6RB',\n",
       "       'BelfastBT1 1FE', 'BelfastBT1 1HL', 'BelfastBT1 4DT',\n",
       "       'BelfastBT41 4BG', 'BelfastBT48 7AY', 'BelfastBT26 6AE',\n",
       "       'BelfastBT54', 'BelfastBT15 4HG', 'BelfastBT27', 'BelfastBT57 8SN',\n",
       "       'BelfastBT9 6AY', 'BelfastBT70 3ES', 'BelfastBT48 7AS',\n",
       "       'BelfastBT31 9HE', 'BelfastBT35 7AB', 'BelfastBT33',\n",
       "       'BelfastBT40 1HJ', 'BelfastBT82 8BW', 'BelfastBT1 4QG',\n",
       "       'BelfastBT42', 'BelfastBT55 7AD', 'BelfastBT7 1NJ',\n",
       "       'BelfastBT60 3RP', 'BelfastBT1 6NB', 'BelfastBT45 6AA',\n",
       "       'BelfastBT3 9JU', 'BelfastBT30 6AB', 'BelfastBT26 6AB',\n",
       "       'BelfastBT1 2JD', 'BelfastBT38', 'BelfastBT70', 'BelfastBT47 3GY',\n",
       "       'BelfastBT80 8EF', 'BelfastBT17', 'BelfastBT9 7GQ',\n",
       "       'BelfastBT71 6HJ', 'BelfastBT11 9AH', 'BelfastBT54 6BN',\n",
       "       'BelfastBT2 7GP', 'BelfastBT22 2HR', 'BelfastBT7 1NR',\n",
       "       'BelfastBT68 4TZ', 'BelfastBT1 2JF', 'BelfastBT75',\n",
       "       'BelfastBT21 0HE', 'BelfastBT30 7SA', 'BelfastBT81 7BT',\n",
       "       'BelfastBT2 7GS', 'BelfastBT2', 'BelfastBT12 5EE',\n",
       "       'BelfastBT11 9AN', 'BelfastBT4 3GE', 'BelfastBT4 2EX',\n",
       "       'BelfastBT41 4JG', 'BelfastBT9 6GH', 'BelfastBT28 3EZ',\n",
       "       'BelfastBT18 9AB', 'BelfastBT14 8AE', 'BelfastBT21 0AA',\n",
       "       'BelfastBT2 8FE', 'BelfastBT23 5EQ', 'BelfastBT2 7BG',\n",
       "       'BelfastBT42 3AL', 'BelfastBT36 6HP', 'BelfastBT15 3BU',\n",
       "       'BelfastBT9 6AG', 'BelfastBT4 3BE', 'BelfastBT8 7HN',\n",
       "       'BelfastBT30 6EH', 'BelfastBT63 5AA', 'BelfastBT11 8BA',\n",
       "       'BelfastBT2 7BB', 'BelfastBT10', 'BelfastBT32 3DD',\n",
       "       'BelfastBT1 1GJ', 'BelfastBT80 0JD', 'BelfastBT41 4BA',\n",
       "       'BelfastBT14 6QJ', 'BelfastBT45 6AB', 'BelfastBT28 1ET',\n",
       "       'BelfastBT2 7HB', 'BelfastBT22 1EB', 'BelfastBT24 7AA',\n",
       "       'BelfastBT41 3AF', 'BelfastBT1 6GE', 'BelfastBT7 1JQ',\n",
       "       'BelfastBT1 6JA', 'BelfastBT52 1EJ', 'BelfastBT2 7HN',\n",
       "       'BelfastBT9 5AA', 'BelfastBT20 5EE', 'BelfastBT2 7HF',\n",
       "       'BelfastBT4 3JH', 'BelfastBT36 5EB', 'BelfastBT79 7AQ',\n",
       "       'BelfastBT47 6AP', 'BelfastBT38 9QQ', 'BelfastBT41 4AE'],\n",
       "      dtype=object)"
      ]
     },
     "execution_count": 306,
     "metadata": {},
     "output_type": "execute_result"
    }
   ],
   "source": [
    "restaurants_dataset[\"zipcode\"].replace('', 'Not Available', inplace=True)\n",
    "new_zipcode = []\n",
    "for item in restaurants_dataset['zipcode']:\n",
    "    item[0:7].replace(\"Belfast\",\" \")\n",
    "        \n",
    "    new_zipcode.append(item)#appends Belfast to the zipcode\n",
    "\n",
    " \n",
    "restaurants_dataset['zipcode'] = new_zipcode\n",
    "restaurants_dataset['zipcode'].unique()#prints the uique zipcodes\n",
    "\n"
   ]
  },
  {
   "cell_type": "markdown",
   "metadata": {},
   "source": [
    "referred geeksforgeeks and github for the code\n",
    "splits the cuisines and treats restaurant_id and cuisine value as the primary key"
   ]
  },
  {
   "cell_type": "code",
   "execution_count": 308,
   "metadata": {},
   "outputs": [
    {
     "data": {
      "text/html": [
       "<div>\n",
       "<style scoped>\n",
       "    .dataframe tbody tr th:only-of-type {\n",
       "        vertical-align: middle;\n",
       "    }\n",
       "\n",
       "    .dataframe tbody tr th {\n",
       "        vertical-align: top;\n",
       "    }\n",
       "\n",
       "    .dataframe thead th {\n",
       "        text-align: right;\n",
       "    }\n",
       "</style>\n",
       "<table border=\"1\" class=\"dataframe\">\n",
       "  <thead>\n",
       "    <tr style=\"text-align: right;\">\n",
       "      <th></th>\n",
       "      <th>restaurant_id</th>\n",
       "      <th>new_cuisines_value</th>\n",
       "    </tr>\n",
       "  </thead>\n",
       "  <tbody>\n",
       "    <tr>\n",
       "      <th>0</th>\n",
       "      <td>16675405</td>\n",
       "      <td>Steak</td>\n",
       "    </tr>\n",
       "    <tr>\n",
       "      <th>1</th>\n",
       "      <td>16675405</td>\n",
       "      <td>Australian</td>\n",
       "    </tr>\n",
       "    <tr>\n",
       "      <th>2</th>\n",
       "      <td>16675405</td>\n",
       "      <td>Grill</td>\n",
       "    </tr>\n",
       "    <tr>\n",
       "      <th>3</th>\n",
       "      <td>16674551</td>\n",
       "      <td>British</td>\n",
       "    </tr>\n",
       "    <tr>\n",
       "      <th>4</th>\n",
       "      <td>16674933</td>\n",
       "      <td>Bar Food</td>\n",
       "    </tr>\n",
       "  </tbody>\n",
       "</table>\n",
       "</div>"
      ],
      "text/plain": [
       "  restaurant_id new_cuisines_value\n",
       "0      16675405              Steak\n",
       "1      16675405         Australian\n",
       "2      16675405              Grill\n",
       "3      16674551            British\n",
       "4      16674933           Bar Food"
      ]
     },
     "execution_count": 308,
     "metadata": {},
     "output_type": "execute_result"
    }
   ],
   "source": [
    "df_split_cuisines = pd.DataFrame(restaurants_dataset.cuisines.str.split(',').tolist(), \\\n",
    "                                           index=restaurants_dataset.restaurant_id).stack()\n",
    "df_split_cuisines = df_split_cuisines.reset_index([0, 'restaurant_id'])\n",
    "df_split_cuisines.columns = ['restaurant_id', 'new_cuisines_value']\n",
    "df_split_cuisines.head()"
   ]
  },
  {
   "cell_type": "markdown",
   "metadata": {},
   "source": [
    "referred geeksforgeeks and github for the code\n",
    "groups the columns according to their rating text and their count"
   ]
  },
  {
   "cell_type": "code",
   "execution_count": 96,
   "metadata": {},
   "outputs": [
    {
     "data": {
      "text/html": [
       "<div>\n",
       "<style scoped>\n",
       "    .dataframe tbody tr th:only-of-type {\n",
       "        vertical-align: middle;\n",
       "    }\n",
       "\n",
       "    .dataframe tbody tr th {\n",
       "        vertical-align: top;\n",
       "    }\n",
       "\n",
       "    .dataframe thead th {\n",
       "        text-align: right;\n",
       "    }\n",
       "</style>\n",
       "<table border=\"1\" class=\"dataframe\">\n",
       "  <thead>\n",
       "    <tr style=\"text-align: right;\">\n",
       "      <th></th>\n",
       "      <th>rating_text</th>\n",
       "      <th>Total Number of Restaurants</th>\n",
       "    </tr>\n",
       "  </thead>\n",
       "  <tbody>\n",
       "    <tr>\n",
       "      <th>0</th>\n",
       "      <td>Average</td>\n",
       "      <td>6</td>\n",
       "    </tr>\n",
       "    <tr>\n",
       "      <th>1</th>\n",
       "      <td>Good</td>\n",
       "      <td>8</td>\n",
       "    </tr>\n",
       "    <tr>\n",
       "      <th>2</th>\n",
       "      <td>Not rated</td>\n",
       "      <td>216</td>\n",
       "    </tr>\n",
       "  </tbody>\n",
       "</table>\n",
       "</div>"
      ],
      "text/plain": [
       "  rating_text  Total Number of Restaurants\n",
       "0     Average                            6\n",
       "1        Good                            8\n",
       "2   Not rated                          216"
      ]
     },
     "execution_count": 96,
     "metadata": {},
     "output_type": "execute_result"
    }
   ],
   "source": [
    "rating_dataset = restaurants_dataset.groupby('rating_text')['restaurant_id'].count().reset_index(name ='Total Number of Restaurants')\n",
    "rating_dataset#prints the rating dataset"
   ]
  },
  {
   "cell_type": "markdown",
   "metadata": {},
   "source": [
    "# Data Visualisation"
   ]
  },
  {
   "cell_type": "markdown",
   "metadata": {},
   "source": [
    "Matplotlib is used to plot the pie chart. Referred geeksforgeeks for some details for the procedure"
   ]
  },
  {
   "cell_type": "code",
   "execution_count": 279,
   "metadata": {},
   "outputs": [
    {
     "data": {
      "image/png": "[encoded data removed]",
      "text/plain": [
       "<Figure size 576x576 with 1 Axes>"
      ]
     },
     "metadata": {},
     "output_type": "display_data"
    }
   ],
   "source": [
    "#refernce taken from https://www.geeksforgeeks.org/plot-a-pie-chart-in-python-using-matplotlib/\n",
    "labels = rating_dataset['rating_text']#creates the labels\n",
    "sizes = rating_dataset['Total Number of Restaurants']\n",
    "explode = (0.1, 0.1, 0.1) \n",
    "colors = ['yellow', 'green', 'red']#colors to represent\n",
    "fig1 ,ax1 = plt.subplots(figsize=(8,8))#size of the figure (pie chart)\n",
    "ax1.pie(sizes, explode=explode, colors=colors,labels=labels, autopct='%1.1f%%',shadow=True)\n",
    "plt.title('Ratings') \n",
    "plt.legend(labels,loc=4)\n",
    "plt.show()#prints the graph"
   ]
  },
  {
   "cell_type": "markdown",
   "metadata": {},
   "source": [
    "Data is extracted and put in a dataframe\n",
    "<br>\n",
    "Referred to the github code mentioned in the end\n"
   ]
  },
  {
   "cell_type": "code",
   "execution_count": 283,
   "metadata": {},
   "outputs": [
    {
     "data": {
      "text/html": [
       "<div>\n",
       "<style scoped>\n",
       "    .dataframe tbody tr th:only-of-type {\n",
       "        vertical-align: middle;\n",
       "    }\n",
       "\n",
       "    .dataframe tbody tr th {\n",
       "        vertical-align: top;\n",
       "    }\n",
       "\n",
       "    .dataframe thead th {\n",
       "        text-align: right;\n",
       "    }\n",
       "</style>\n",
       "<table border=\"1\" class=\"dataframe\">\n",
       "  <thead>\n",
       "    <tr style=\"text-align: right;\">\n",
       "      <th></th>\n",
       "      <th>Restaurant Name</th>\n",
       "      <th>Number of Restaurants</th>\n",
       "    </tr>\n",
       "  </thead>\n",
       "  <tbody>\n",
       "    <tr>\n",
       "      <th>0</th>\n",
       "      <td>McDonald's</td>\n",
       "      <td>17</td>\n",
       "    </tr>\n",
       "    <tr>\n",
       "      <th>1</th>\n",
       "      <td>Burger King</td>\n",
       "      <td>5</td>\n",
       "    </tr>\n",
       "    <tr>\n",
       "      <th>2</th>\n",
       "      <td>Dormans Bar</td>\n",
       "      <td>2</td>\n",
       "    </tr>\n",
       "    <tr>\n",
       "      <th>3</th>\n",
       "      <td>Mourne Seafood Bar</td>\n",
       "      <td>2</td>\n",
       "    </tr>\n",
       "    <tr>\n",
       "      <th>4</th>\n",
       "      <td>Eds Bar and Grill</td>\n",
       "      <td>2</td>\n",
       "    </tr>\n",
       "    <tr>\n",
       "      <th>5</th>\n",
       "      <td>Guapo Fresh Mexican</td>\n",
       "      <td>1</td>\n",
       "    </tr>\n",
       "    <tr>\n",
       "      <th>6</th>\n",
       "      <td>Wooden Boat</td>\n",
       "      <td>1</td>\n",
       "    </tr>\n",
       "    <tr>\n",
       "      <th>7</th>\n",
       "      <td>Slice of America</td>\n",
       "      <td>1</td>\n",
       "    </tr>\n",
       "    <tr>\n",
       "      <th>8</th>\n",
       "      <td>Lurgan Oriental</td>\n",
       "      <td>1</td>\n",
       "    </tr>\n",
       "    <tr>\n",
       "      <th>9</th>\n",
       "      <td>Bombay Brasserie - Belfast</td>\n",
       "      <td>1</td>\n",
       "    </tr>\n",
       "  </tbody>\n",
       "</table>\n",
       "</div>"
      ],
      "text/plain": [
       "              Restaurant Name  Number of Restaurants\n",
       "0                  McDonald's                     17\n",
       "1                 Burger King                      5\n",
       "2                 Dormans Bar                      2\n",
       "3          Mourne Seafood Bar                      2\n",
       "4           Eds Bar and Grill                      2\n",
       "5         Guapo Fresh Mexican                      1\n",
       "6                 Wooden Boat                      1\n",
       "7            Slice of America                      1\n",
       "8             Lurgan Oriental                      1\n",
       "9  Bombay Brasserie - Belfast                      1"
      ]
     },
     "execution_count": 283,
     "metadata": {},
     "output_type": "execute_result"
    }
   ],
   "source": [
    "#referred to the github code mentioned in the end\n",
    "series=restaurants_dataset[\"restaurant_name\"].value_counts().head(10)\n",
    "popular_restaurants = pd.DataFrame(series).reset_index()\n",
    "popular_restaurants.columns = ['Restaurant Name', 'Number of Restaurants']\n",
    "popular_restaurants\n",
    "\n"
   ]
  },
  {
   "cell_type": "markdown",
   "metadata": {},
   "source": [
    "Bar chart is used to plot the maximum number of restaurants(McDonalds) in this case."
   ]
  },
  {
   "cell_type": "code",
   "execution_count": 290,
   "metadata": {},
   "outputs": [
    {
     "data": {
      "image/png": "[encoded data removed]",
      "text/plain": [
       "<Figure size 1512x504 with 1 Axes>"
      ]
     },
     "metadata": {},
     "output_type": "display_data"
    }
   ],
   "source": [
    "fig = plt.figure(figsize = (21, 7)) #size of the graph figure\n",
    "plt.bar(popular_restaurants['Restaurant Name'],popular_restaurants['Number of Restaurants'])\n",
    "plt.xlabel('Restaurant Name')#x axis label\n",
    "plt.ylabel('Number of Restaurants')#y axis label\n",
    "plt.show()#prints the graph"
   ]
  },
  {
   "cell_type": "code",
   "execution_count": 309,
   "metadata": {},
   "outputs": [
    {
     "data": {
      "text/html": [
       "<div>\n",
       "<style scoped>\n",
       "    .dataframe tbody tr th:only-of-type {\n",
       "        vertical-align: middle;\n",
       "    }\n",
       "\n",
       "    .dataframe tbody tr th {\n",
       "        vertical-align: top;\n",
       "    }\n",
       "\n",
       "    .dataframe thead th {\n",
       "        text-align: right;\n",
       "    }\n",
       "</style>\n",
       "<table border=\"1\" class=\"dataframe\">\n",
       "  <thead>\n",
       "    <tr style=\"text-align: right;\">\n",
       "      <th></th>\n",
       "      <th>Cuisine Name</th>\n",
       "      <th>Number of Restaurants</th>\n",
       "    </tr>\n",
       "  </thead>\n",
       "  <tbody>\n",
       "    <tr>\n",
       "      <th>0</th>\n",
       "      <td>Bar Food</td>\n",
       "      <td>53</td>\n",
       "    </tr>\n",
       "    <tr>\n",
       "      <th>1</th>\n",
       "      <td>American</td>\n",
       "      <td>51</td>\n",
       "    </tr>\n",
       "    <tr>\n",
       "      <th>2</th>\n",
       "      <td>Asian</td>\n",
       "      <td>42</td>\n",
       "    </tr>\n",
       "  </tbody>\n",
       "</table>\n",
       "</div>"
      ],
      "text/plain": [
       "  Cuisine Name  Number of Restaurants\n",
       "0     Bar Food                     53\n",
       "1     American                     51\n",
       "2        Asian                     42"
      ]
     },
     "execution_count": 309,
     "metadata": {},
     "output_type": "execute_result"
    }
   ],
   "source": [
    "series=df_split_cuisines['new_cuisines_value'].value_counts().head(3)\n",
    "popular_cuisines_df = pd.DataFrame(series).reset_index()\n",
    "popular_cuisines_df.columns = ['Cuisine Name', 'Number of Restaurants']\n",
    "popular_cuisines_df"
   ]
  },
  {
   "cell_type": "markdown",
   "metadata": {},
   "source": [
    "referred to the github code mentioned in the end\n",
    "Pie chart using matplotlib to plot the most popular cuisines"
   ]
  },
  {
   "cell_type": "code",
   "execution_count": 312,
   "metadata": {},
   "outputs": [
    {
     "data": {
      "image/png": "[encoded data removed]",
      "text/plain": [
       "<Figure size 648x648 with 1 Axes>"
      ]
     },
     "metadata": {},
     "output_type": "display_data"
    }
   ],
   "source": [
    "\n",
    "labels = popular_cuisines_df['Cuisine Name']\n",
    "sizes = popular_cuisines_df['Number of Restaurants']\n",
    "explode = (0, 0, 0) \n",
    "colors = ['yellow', 'green', 'red']#color to show the pie chart divisions\n",
    "fig1, ax1 = plt.subplots(figsize=(9,9))\n",
    "ax1.pie(sizes, explode=explode, colors=colors,labels=labels, autopct='%1.1f%%',shadow=True)\n",
    "plt.title('Popular Cuisines')\n",
    "plt.legend(labels,loc=4)\n",
    "plt.show()#prints the pie chart"
   ]
  },
  {
   "cell_type": "code",
   "execution_count": 313,
   "metadata": {},
   "outputs": [
    {
     "data": {
      "text/html": [
       "<div>\n",
       "<style scoped>\n",
       "    .dataframe tbody tr th:only-of-type {\n",
       "        vertical-align: middle;\n",
       "    }\n",
       "\n",
       "    .dataframe tbody tr th {\n",
       "        vertical-align: top;\n",
       "    }\n",
       "\n",
       "    .dataframe thead th {\n",
       "        text-align: right;\n",
       "    }\n",
       "</style>\n",
       "<table border=\"1\" class=\"dataframe\">\n",
       "  <thead>\n",
       "    <tr style=\"text-align: right;\">\n",
       "      <th></th>\n",
       "      <th>restaurant_name</th>\n",
       "      <th>average_cost_for_two</th>\n",
       "    </tr>\n",
       "  </thead>\n",
       "  <tbody>\n",
       "    <tr>\n",
       "      <th>101</th>\n",
       "      <td>Raincheck</td>\n",
       "      <td>60</td>\n",
       "    </tr>\n",
       "    <tr>\n",
       "      <th>0</th>\n",
       "      <td>Uluru Bar &amp; Grill</td>\n",
       "      <td>50</td>\n",
       "    </tr>\n",
       "    <tr>\n",
       "      <th>108</th>\n",
       "      <td>Seasons - The Balmoral Hotel</td>\n",
       "      <td>50</td>\n",
       "    </tr>\n",
       "  </tbody>\n",
       "</table>\n",
       "</div>"
      ],
      "text/plain": [
       "                  restaurant_name  average_cost_for_two\n",
       "101                     Raincheck                    60\n",
       "0               Uluru Bar & Grill                    50\n",
       "108  Seasons - The Balmoral Hotel                    50"
      ]
     },
     "execution_count": 313,
     "metadata": {},
     "output_type": "execute_result"
    }
   ],
   "source": [
    "p = restaurants_dataset[['restaurant_name', 'average_cost_for_two']]\n",
    "sort_by_cost =p.sort_values('average_cost_for_two',ascending=False)#sorting in ascending order\n",
    "sort_by_cost=sort_by_cost.head(3)#printing the top 3 expensive restaurants\n",
    "sort_by_cost"
   ]
  },
  {
   "cell_type": "markdown",
   "metadata": {},
   "source": [
    "referred to the geeksforgeeks  mentioned in the end\n",
    "Pie chart using matplotlib to plot the most expensive restaurants"
   ]
  },
  {
   "cell_type": "code",
   "execution_count": 316,
   "metadata": {},
   "outputs": [
    {
     "data": {
      "image/png": "[encoded data removed]",
      "text/plain": [
       "<Figure size 720x720 with 1 Axes>"
      ]
     },
     "metadata": {},
     "output_type": "display_data"
    }
   ],
   "source": [
    "labels = sort_by_cost['restaurant_name']\n",
    "sizes = sort_by_cost['average_cost_for_two']\n",
    "explode = (0, 0, 0) \n",
    "colors = ['yellow', 'green', 'red']#color to show the pie chart divisions\n",
    "\n",
    "fig1, ax1 = plt.subplots(figsize=(10,10))\n",
    "ax1.pie(sizes, explode=explode, colors=colors,labels=labels, autopct='%1.1f%%',shadow=True)\n",
    "plt.title('Popular Restaurants')\n",
    "plt.legend(labels,loc=2)\n",
    "plt.show()#prints the pie plot"
   ]
  },
  {
   "cell_type": "markdown",
   "metadata": {},
   "source": [
    "used the code from above to do the same ting with locality and number of restaurants"
   ]
  },
  {
   "cell_type": "code",
   "execution_count": 265,
   "metadata": {},
   "outputs": [
    {
     "data": {
      "text/html": [
       "<div>\n",
       "<style scoped>\n",
       "    .dataframe tbody tr th:only-of-type {\n",
       "        vertical-align: middle;\n",
       "    }\n",
       "\n",
       "    .dataframe tbody tr th {\n",
       "        vertical-align: top;\n",
       "    }\n",
       "\n",
       "    .dataframe thead th {\n",
       "        text-align: right;\n",
       "    }\n",
       "</style>\n",
       "<table border=\"1\" class=\"dataframe\">\n",
       "  <thead>\n",
       "    <tr style=\"text-align: right;\">\n",
       "      <th></th>\n",
       "      <th>Locality</th>\n",
       "      <th>Number of Restaurants</th>\n",
       "    </tr>\n",
       "  </thead>\n",
       "  <tbody>\n",
       "    <tr>\n",
       "      <th>0</th>\n",
       "      <td>Belfast</td>\n",
       "      <td>99</td>\n",
       "    </tr>\n",
       "    <tr>\n",
       "      <th>1</th>\n",
       "      <td>Ards</td>\n",
       "      <td>11</td>\n",
       "    </tr>\n",
       "    <tr>\n",
       "      <th>2</th>\n",
       "      <td>Dungannon and South Tyrone</td>\n",
       "      <td>10</td>\n",
       "    </tr>\n",
       "    <tr>\n",
       "      <th>3</th>\n",
       "      <td>Derry</td>\n",
       "      <td>10</td>\n",
       "    </tr>\n",
       "    <tr>\n",
       "      <th>4</th>\n",
       "      <td>Down</td>\n",
       "      <td>9</td>\n",
       "    </tr>\n",
       "  </tbody>\n",
       "</table>\n",
       "</div>"
      ],
      "text/plain": [
       "                     Locality  Number of Restaurants\n",
       "0                     Belfast                     99\n",
       "1                        Ards                     11\n",
       "2  Dungannon and South Tyrone                     10\n",
       "3                       Derry                     10\n",
       "4                        Down                      9"
      ]
     },
     "execution_count": 265,
     "metadata": {},
     "output_type": "execute_result"
    }
   ],
   "source": [
    "restaurants_count_by_locality= restaurants_dataset['locality'].value_counts().head(5)\n",
    "restaurants_count_by_locality_df = pd.DataFrame(restaurants_count_by_locality).reset_index()\n",
    "restaurants_count_by_locality_df.columns = ['Locality', 'Number of Restaurants']\n",
    "restaurants_count_by_locality_df"
   ]
  },
  {
   "cell_type": "markdown",
   "metadata": {},
   "source": [
    "Matplotlib is used for creating a bar graph to plot the locality with maximum number of restaurants\n",
    "<br>\n"
   ]
  },
  {
   "cell_type": "code",
   "execution_count": 270,
   "metadata": {},
   "outputs": [
    {
     "data": {
      "image/png": "[encoded data removed]",
      "text/plain": [
       "<Figure size 864x432 with 1 Axes>"
      ]
     },
     "metadata": {},
     "output_type": "display_data"
    }
   ],
   "source": [
    "fig = plt.figure(figsize = (12, 6)) #size of the graph figure\n",
    "plt.bar(restaurants_count_by_locality_df['Locality'],restaurants_count_by_locality_df['Number of Restaurants'])\n",
    "plt.title('The top 5 localities where they have the maximum resataurants')#title of the graph\n",
    "plt.xlabel('Locality')#x axis label\n",
    "plt.ylabel('Number of Restaurants')#y axis label\n",
    "plt.show()#prints the graph"
   ]
  },
  {
   "cell_type": "markdown",
   "metadata": {},
   "source": [
    "Seaborn is used for visualization for this part of the data with votes , rating and and average cost of the restaurant for 2 people"
   ]
  },
  {
   "cell_type": "code",
   "execution_count": 258,
   "metadata": {},
   "outputs": [
    {
     "data": {
      "image/png": "[encoded data removed]",
      "text/plain": [
       "<Figure size 1008x648 with 1 Axes>"
      ]
     },
     "metadata": {},
     "output_type": "display_data"
    }
   ],
   "source": [
    "#using seaborn to plot a scatter plot to visualize data\n",
    "sns.set_style(\"darkgrid\")\n",
    "plt.figure(figsize=(14,9))\n",
    "ax = sns.scatterplot(y=\"votes\", x=\"average_cost_for_two\",hue=\"rating_text\", data=restaurants_dataset)\n",
    "plt.show()#prints the plot on the screen below"
   ]
  },
  {
   "cell_type": "markdown",
   "metadata": {},
   "source": [
    "# Analysis and Summarization of the results\n",
    "<br>\n",
    "\n",
    "<li> <b>3</b> pie chart,<b> 2</b> bar chart and <b>1</b> scatter plot is used to plot the available data</li>\n",
    "<li> According to the first pie chart, majority of the people <b>dont rate</b> the restaurants. We should raise awareness among the customers to rate the restaurants to get a proper picture about it</li>\n",
    "<li>According to the 2nd bar chart,<b> mcdonalds</b> has the most number of restaurants in belfast followed by <b>Burger King</b>(according to the data we have)\n",
    "<li>According the 3rd pie chart,<b> Bar food </b>is available in most restaurants, followed by<b> american</b> and <b>asian</b> <li>According to the 4th pie chart, the 3 most expensiive restaurants are<b> Raincheck(avg cost =60 )</b>,<b>Uluru Bar & Grill(avg cost=50)</b> and <b>Seasons - The Balmoral Hotel(avg cost=50)</b></li>\n",
    "<li>According to the 5th bar chart, area around<b> Belfast</b> has the most restaurants followed by <b>Ards</b> and other places </li>\n",
    "<li> According the 6th Scatter plot, the restaurant with rating as <b>good</b> fall in the region with 10 votes or above\n",
    "\n",
    "# Future improvisations\n",
    "<br>\n",
    "<li> I have fetched data of around <b>236</b> restaurants to analyse. In future a lot more data could be fetched for better ideas and visualizations </li>\n",
    "<li> I have taken cuisine data and information for fetching restuarant data. In future, we could use the data from establishments and categories to fetch data</li>\n",
    "<li> <b>Web scraping</b> using <b>Beautiful Soup</b> could be done to fetch more data about different restaurants and merge it with the data we already have for proper analysis</li>\n",
    "<li> <b>Sentiment analysis</b> libraries could be used to analyse the <b> reviews</b> written by the customers and to get a better picture of the restaurants </li>\n",
    "<li> I feel that the project can be improved by fetching a <b>larger chunk</b> of data but i was facing a issue with the <b>limitation of API calls(1000/day)</b> as it was getting exhausted in <b>5 minutes</b> which is why i had to take a smaller chunk of data</li>\n",
    "\n",
    "\n",
    "\n",
    "\n",
    "# Sources and Citations\n",
    "   <br>\n",
    "<li> <b> Lectures and notes </b>available on brightspace </li>\n",
    "<li> data science articles on <b>medium</b> </li>\n",
    "<li>I have used this <b>github project</b> for guidance when i was stuck. occasionally I have taken a few pieces of code from here when I was stuck (one of the reason being that all commands are not executable by some versions old version of pandas https://github.com/vidushijain/Zomato-Data-Analysis-for-Dublin-Restaurants/blob/master/Vidushi_18200009_Assignment1.ipynb</li>\n",
    "    "
   ]
  },
  {
   "cell_type": "code",
   "execution_count": null,
   "metadata": {},
   "outputs": [],
   "source": []
  }
 ],
 "metadata": {
  "kernelspec": {
   "display_name": "Python 3",
   "language": "python",
   "name": "python3"
  },
  "language_info": {
   "codemirror_mode": {
    "name": "ipython",
    "version": 3
   },
   "file_extension": ".py",
   "mimetype": "text/x-python",
   "name": "python",
   "nbconvert_exporter": "python",
   "pygments_lexer": "ipython3",
   "version": "3.7.3"
  }
 },
 "nbformat": 4,
 "nbformat_minor": 2
}
